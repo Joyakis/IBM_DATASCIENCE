{
 "cells": [
  {
   "cell_type": "markdown",
   "id": "0e3beef8",
   "metadata": {},
   "source": [
    "# IBM Data Science(tools for Data Science)"
   ]
  },
  {
   "cell_type": "markdown",
   "id": "51b0ef5f",
   "metadata": {},
   "source": [
    "### Introduction"
   ]
  },
  {
   "cell_type": "markdown",
   "id": "202c7f24",
   "metadata": {},
   "source": [
    "As an aspiring data scientist,i thought it wise  to state what Data Science entails through this notebook.It is also done as part of the IBM data science course"
   ]
  },
  {
   "cell_type": "markdown",
   "id": "649ed477",
   "metadata": {},
   "source": [
    "#### Data Science languages"
   ]
  },
  {
   "cell_type": "markdown",
   "id": "c3ecdb34",
   "metadata": {},
   "source": [
    "1. Python\n",
    "2. R\n",
    "3. Scala\n",
    "4. Java\n"
   ]
  },
  {
   "cell_type": "markdown",
   "id": "83218bc0",
   "metadata": {},
   "source": [
    "#### Data Science libraries"
   ]
  },
  {
   "cell_type": "markdown",
   "id": "486e978d",
   "metadata": {},
   "source": [
    "1. Matplotlib\n",
    "2. Pandas\n",
    "3. Seaborn\n",
    "4. Numpy\n",
    "5. Sckit-learn"
   ]
  },
  {
   "cell_type": "markdown",
   "id": "b94cd728",
   "metadata": {},
   "source": [
    "#### Data Science tools"
   ]
  },
  {
   "cell_type": "markdown",
   "id": "94051db8",
   "metadata": {},
   "source": [
    "1. Python - a popular programming language for data science and machine learning. It has a rich ecosystem of libraries and frameworks, including NumPy, Pandas, Matplotlib, and scikit-learn.\n",
    "\n",
    "2. R - a programming language and software environment for statistical computing and graphics. It is widely used for data analysis and visualization, and has a large number of packages and libraries.\n",
    "\n",
    "3. Jupyter - an open-source web application that allows you to create and share interactive notebooks containing live code, visualizations, and narrative text.\n",
    "\n",
    "4. Apache Spark - an open-source distributed computing system that provides a unified analytics engine for big data processing."
   ]
  },
  {
   "cell_type": "markdown",
   "id": "c57a85ba",
   "metadata": {},
   "source": [
    "### Arithmetic expressions"
   ]
  },
  {
   "cell_type": "markdown",
   "id": "f0fc5e8d",
   "metadata": {},
   "source": [
    "Defines a sum of a product:\n"
   ]
  },
  {
   "cell_type": "code",
   "execution_count": 3,
   "id": "92190756",
   "metadata": {},
   "outputs": [
    {
     "data": {
      "text/plain": [
       "2"
      ]
     },
     "execution_count": 3,
     "metadata": {},
     "output_type": "execute_result"
    }
   ],
   "source": [
    "1+1"
   ]
  },
  {
   "cell_type": "markdown",
   "id": "be80b14f",
   "metadata": {},
   "source": [
    "Defines a product of numbers:"
   ]
  },
  {
   "cell_type": "code",
   "execution_count": 7,
   "id": "7c100b83",
   "metadata": {},
   "outputs": [
    {
     "data": {
      "text/plain": [
       "10"
      ]
     },
     "execution_count": 7,
     "metadata": {},
     "output_type": "execute_result"
    }
   ],
   "source": [
    "2 * 5"
   ]
  },
  {
   "cell_type": "markdown",
   "id": "ad5c8e46",
   "metadata": {},
   "source": [
    "### Converting minutes to hours"
   ]
  },
  {
   "cell_type": "code",
   "execution_count": 8,
   "id": "efd7ee0f",
   "metadata": {},
   "outputs": [
    {
     "name": "stdout",
     "output_type": "stream",
     "text": [
      "The conversion of 120 minutes to hours is 2.0 hours\n"
     ]
    }
   ],
   "source": [
    "# Input the minutes\n",
    "mins = 120\n",
    "\n",
    "# Convert minutes to hours\n",
    "hours = mins / 60\n",
    "\n",
    "# Print the result\n",
    "print(\"The conversion of\", mins, \"minutes to hours is\", hours, \"hours\")\n"
   ]
  },
  {
   "cell_type": "markdown",
   "id": "85cc5f19",
   "metadata": {},
   "source": [
    "### Author:Joy Akinyi"
   ]
  },
  {
   "cell_type": "code",
   "execution_count": null,
   "id": "acc42222",
   "metadata": {},
   "outputs": [],
   "source": []
  }
 ],
 "metadata": {
  "kernelspec": {
   "display_name": "Python 3 (ipykernel)",
   "language": "python",
   "name": "python3"
  },
  "language_info": {
   "codemirror_mode": {
    "name": "ipython",
    "version": 3
   },
   "file_extension": ".py",
   "mimetype": "text/x-python",
   "name": "python",
   "nbconvert_exporter": "python",
   "pygments_lexer": "ipython3",
   "version": "3.9.13"
  }
 },
 "nbformat": 4,
 "nbformat_minor": 5
}
